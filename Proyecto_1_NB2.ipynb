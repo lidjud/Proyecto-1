{
  "nbformat": 4,
  "nbformat_minor": 0,
  "metadata": {
    "colab": {
      "name": "Proyecto 1 NB2.ipynb",
      "provenance": [],
      "authorship_tag": "ABX9TyMj4ulef9kvyIJbAEwOh9Vc",
      "include_colab_link": true
    },
    "kernelspec": {
      "name": "python3",
      "display_name": "Python 3"
    },
    "language_info": {
      "name": "python"
    }
  },
  "cells": [
    {
      "cell_type": "markdown",
      "metadata": {
        "id": "view-in-github",
        "colab_type": "text"
      },
      "source": [
        "<a href=\"https://colab.research.google.com/github/lidjud/Proyecto-1/blob/main/Proyecto_1_NB2.ipynb\" target=\"_parent\"><img src=\"https://colab.research.google.com/assets/colab-badge.svg\" alt=\"Open In Colab\"/></a>"
      ]
    },
    {
      "cell_type": "markdown",
      "source": [
        "# Proyecto 1. Calculadora de propinas\n",
        "\n",
        "En tu primer proyecto deberás programar una calculadora que realice las siguientes tareas:\n",
        "\n",
        "\n",
        "1. Desplegar en la consola un mensaje de inicio.\n",
        "2. Preguntar al usuario el total de la cuenta por pagar.\n",
        "3. Preguntar al usuario el porcentaje de la propina que desea dar, las opciones deben ser 10, 12 o 15 por ciento de la cuenta.\n",
        "4. Preguntar al usuario en cuántas personas desean dividir la cuenta.\n",
        "5. Desplegar en la consola el monto que tiene(n) que pagar.\n",
        "\n",
        "Considera que el monto que tiene que pagar la(s) persona(s) debe estar redondeado con dos números decimales. Quizás debas realizar una búsqueda en Google 🔎\n",
        "\n"
      ],
      "metadata": {
        "id": "JsMnyXggcDJS"
      }
    },
    {
      "cell_type": "code",
      "execution_count": null,
      "metadata": {
        "id": "ivt1dgdNZzVP"
      },
      "outputs": [],
      "source": [
        "#Si la cuenta entregada fue de $150.00, dividido entre 5 personas, con el 12% de propina. \n",
        "\n",
        "#Cada persona deberá pagar (150.00 / 5) * 1.12 = 33.6\n",
        "#El resultado se debe encontrar redondeado con dos decimales = 33.60\n",
        "\n",
        "#Tip: Hay dos maneras de redondear un número. Es posible que tengas que buscar en Google para resolver esto.💪\n",
        "\n",
        "#Aquí puedes escribir tu código 👇\n",
        "\n"
      ]
    },
    {
      "cell_type": "code",
      "source": [
        ""
      ],
      "metadata": {
        "id": "AvCxmAh9bV5s"
      },
      "execution_count": null,
      "outputs": []
    }
  ]
}